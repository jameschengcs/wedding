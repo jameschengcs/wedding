{
 "cells": [
  {
   "cell_type": "code",
   "execution_count": 2,
   "metadata": {},
   "outputs": [
    {
     "data": {
      "application/vnd.jupyter.widget-view+json": {
       "model_id": "b5e55f4ef3f24c148a2fd84c3c82a522",
       "version_major": 2,
       "version_minor": 0
      },
      "text/plain": [
       "IntProgress(value=0, description='(Init)', max=200)"
      ]
     },
     "metadata": {},
     "output_type": "display_data"
    },
    {
     "name": "stdout",
     "output_type": "stream",
     "text": [
      "Congratulations!\n",
      "0982686875\n"
     ]
    }
   ],
   "source": [
    "from openpyxl import load_workbook\t\n",
    "from ipywidgets import IntProgress\n",
    "from IPython.display import display\n",
    "import random\n",
    "import time\n",
    "\n",
    "# Workbook loading\n",
    "wb = load_workbook( filename = 'Wedding.xlsx', data_only = True)\n",
    "\n",
    "# Worksheet loading\n",
    "ws = wb['表單回應 1']\n",
    "\n",
    "#print(ws.cell(1, 1).value)\n",
    "# Data reading\n",
    "#L= [[cell.value for cell in row] for row in ws.rows]\n",
    "S = set()\n",
    "for i in range(2, ws.max_row):\n",
    "    S.add(ws.cell(i, 2).value)\n",
    "#print(S)\n",
    "y=0\n",
    "y=len(S)\n",
    "L = list(S)\n",
    "##L= sorted(S)\n",
    "#print(y)\n",
    "#for j in range(0, 100):\n",
    "#    k = random.randint(0, y - 1)\n",
    "#print(k,L[k])\n",
    "\n",
    "\n",
    "n = 200\n",
    "s = 10.0 # 10 sec\n",
    "t = s / ((n + 1) * n / 2.0)\n",
    "K = [random.randint(0, y - 1) for i in range(n)]\n",
    "\n",
    "# Initialize a progess bar\n",
    "progress = IntProgress()\n",
    "progress.max = n\n",
    "progress.description = '(Init)'\n",
    "display(progress)\n",
    "time.sleep(0.25)\n",
    "st = t\n",
    "# Simulating task execution\n",
    "for k in K:\n",
    "    progress.value += 1\n",
    "    time.sleep(st)\n",
    "    st += t\n",
    "    p = L[k][0:4] + '???' + L[k][7:]\n",
    "    progress.description = p\n",
    "    \n",
    "with open('anwser.txt', 'w') as f:    \n",
    "    f.write(L[k])\n",
    "    print('Congratulations!')\n",
    "    print(L[k])"
   ]
  },
  {
   "cell_type": "raw",
   "metadata": {},
   "source": []
  },
  {
   "cell_type": "code",
   "execution_count": null,
   "metadata": {},
   "outputs": [],
   "source": []
  },
  {
   "cell_type": "code",
   "execution_count": null,
   "metadata": {},
   "outputs": [],
   "source": []
  },
  {
   "cell_type": "code",
   "execution_count": null,
   "metadata": {},
   "outputs": [],
   "source": []
  }
 ],
 "metadata": {
  "kernelspec": {
   "display_name": "Python 3",
   "language": "python",
   "name": "python3"
  },
  "language_info": {
   "codemirror_mode": {
    "name": "ipython",
    "version": 3
   },
   "file_extension": ".py",
   "mimetype": "text/x-python",
   "name": "python",
   "nbconvert_exporter": "python",
   "pygments_lexer": "ipython3",
   "version": "3.7.4"
  }
 },
 "nbformat": 4,
 "nbformat_minor": 2
}
